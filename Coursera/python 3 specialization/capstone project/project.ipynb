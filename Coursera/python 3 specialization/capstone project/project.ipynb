{
 "cells": [
  {
   "cell_type": "markdown",
   "metadata": {},
   "source": [
    "# The Project #\n",
    "1. This is a project with minimal scaffolding. Expect to use the the discussion forums to gain insights! It’s not cheating to ask others for opinions or perspectives!\n",
    "2. Be inquisitive, try out new things.\n",
    "3. Use the previous modules for insights into how to complete the functions! You'll have to combine Pillow, OpenCV, and Pytesseract\n",
    "4. There are hints provided in Coursera, feel free to explore the hints if needed. Each hint provide progressively more details on how to solve the issue. This project is intended to be comprehensive and difficult if you do it without the hints.\n",
    "\n",
    "## The Assignment ##\n",
    "Take a [ZIP file](https://en.wikipedia.org/wiki/Zip_(file_format)) of images and process them, using a [library built into python](https://docs.python.org/3/library/zipfile.html) that you need to learn how to use. A ZIP file takes several different files and compresses them, thus saving space, into one single file. The files in the ZIP file we provide are newspaper images (like you saw in week 3). Your task is to write python code which allows one to search through the images looking for the occurrences of keywords and faces. E.g. if you search for \"pizza\" it will return a contact sheet of all of the faces which were located on the newspaper page which mentions \"pizza\". This will test your ability to learn a new ([library](https://docs.python.org/3/library/zipfile.html)), your ability to use OpenCV to detect faces, your ability to use tesseract to do optical character recognition, and your ability to use PIL to composite images together into contact sheets.\n",
    "\n",
    "Each page of the newspapers is saved as a single PNG image in a file called [images.zip](./readonly/images.zip). These newspapers are in english, and contain a variety of stories, advertisements and images. Note: This file is fairly large (~200 MB) and may take some time to work with, I would encourage you to use [small_img.zip](./readonly/small_img.zip) for testing.\n",
    "\n",
    "Here's an example of the output expected. Using the [small_img.zip](./readonly/small_img.zip) file, if I search for the string \"Christopher\" I should see the following image:\n",
    "![Christopher Search](./readonly/small_project.png)\n",
    "If I were to use the [images.zip](./readonly/images.zip) file and search for \"Mark\" I should see the following image (note that there are times when there are no faces on a page, but a word is found!):\n",
    "![Mark Search](./readonly/large_project.png)\n",
    "\n",
    "Note: That big file can take some time to process - for me it took nearly ten minutes! Use the small one for testing."
   ]
  },
  {
   "cell_type": "markdown",
   "metadata": {},
   "source": [
    "## Solution"
   ]
  },
  {
   "cell_type": "markdown",
   "metadata": {},
   "source": [
    "### Packages Used"
   ]
  },
  {
   "cell_type": "code",
   "execution_count": 6,
   "metadata": {
    "collapsed": true
   },
   "outputs": [],
   "source": [
    "from PIL import Image\n",
    "import pytesseract\n",
    "import cv2 as cv\n",
    "import numpy as np\n",
    "from zipfile import ZipFile\n",
    "from IPython.display import display\n",
    "\n",
    "# loading the face detection classifier\n",
    "face_cascade = cv.CascadeClassifier('readonly/haarcascade_frontalface_default.xml')\n",
    "\n",
    "# the rest is up to you!"
   ]
  },
  {
   "cell_type": "markdown",
   "metadata": {},
   "source": [
    "### Custom Functions\n",
    "\n",
    "This section contains the custom functions and their definitions"
   ]
  },
  {
   "cell_type": "markdown",
   "metadata": {},
   "source": [
    "#### File names\n",
    "\n",
    "This is a routine function which is used to extract file names from zip folder"
   ]
  },
  {
   "cell_type": "code",
   "execution_count": 2,
   "metadata": {
    "collapsed": true
   },
   "outputs": [],
   "source": [
    "bigfile = 'readonly/images.zip' \n",
    "#smallfile = 'readonly/small_img.zip'\n",
    "\n",
    "# Returns a list of the file names inside the bigfile\n",
    "def get_file_names_from_zip(bigfile):    \n",
    "    with ZipFile(bigfile, 'r') as archive:         \n",
    "        imglist = archive.namelist()\n",
    "        #print('imagelist:',imglist)\n",
    "        return imglist"
   ]
  },
  {
   "cell_type": "markdown",
   "metadata": {},
   "source": [
    "#### Getting Images\n",
    "This is a routine function to extract images from zip folder"
   ]
  },
  {
   "cell_type": "code",
   "execution_count": null,
   "metadata": {
    "collapsed": true
   },
   "outputs": [],
   "source": [
    "def get_images_from_zip(bigfile, name, pxsize):     \n",
    "    with ZipFile(bigfile, 'r') as archive:        \n",
    "        with archive.open(name) as file:            \n",
    "            with Image.open(file) as img:                \n",
    "                if pxsize:                    \n",
    "                    image = img.resize((pxsize, (pxsize*img.height//img.width )),                    \n",
    "                                       resample=Image.BICUBIC)                \n",
    "                else:                    \n",
    "                    image = img    \n",
    "                return image.convert('RGB')"
   ]
  },
  {
   "cell_type": "markdown",
   "metadata": {},
   "source": [
    "#### Data Dictionary\n",
    "This is a routine function to create a data dictionary with following keys: {the filename (e.g.: 'a-0.png'): {'image': a Pil image, 'text': the Tesserac t text}}"
   ]
  },
  {
   "cell_type": "code",
   "execution_count": 1,
   "metadata": {
    "collapsed": true
   },
   "outputs": [],
   "source": [
    "def create_data_dict(bigfile, pxsize=None):    \n",
    "    data = {}    \n",
    "    imglist = get_file_names_from_zip(bigfile)\n",
    "    print('Imagelist:',imglist)\n",
    "    for img in imglist:\n",
    "        print('img:',img)\n",
    "        image = get_images_from_zip(bigfile, img, pxsize)        \n",
    "        text = pytesseract.image_to_string(image)        \n",
    "        if img not in data:            \n",
    "            data.setdefault(img, {'image': image, 'text': text}) \n",
    "        #print(data)    \n",
    "    return data"
   ]
  },
  {
   "cell_type": "markdown",
   "metadata": {},
   "source": [
    "#### Word search\n",
    "This is a routine function to search for the provided word in the provided text"
   ]
  },
  {
   "cell_type": "code",
   "execution_count": null,
   "metadata": {
    "collapsed": true
   },
   "outputs": [],
   "source": [
    "def search_word_in_text(text, word):    \n",
    "    return word.upper() in text.upper()"
   ]
  },
  {
   "cell_type": "markdown",
   "metadata": {},
   "source": [
    "#### Contact Sheet\n",
    "This is a routine function to make contact sheet"
   ]
  },
  {
   "cell_type": "code",
   "execution_count": null,
   "metadata": {
    "collapsed": true
   },
   "outputs": [],
   "source": [
    "# create a contact sheet layer\n",
    "def contact_sheet_layer(imglist, cols, cells):    \n",
    "    val = (0 if len(imglist) % cols == 0 else 1)    \n",
    "    return Image.new('RGB',(cells[0]*cols, cells[1]*((len(imglist) // cols) + val)))\n",
    "\n",
    "# Creates the contact sheet # The optional parameters are the number of colums and the thumbnail size \n",
    "def create_contact_sheet(imglist, cols=5, cells=(150, 150)):    \n",
    "    print(\"{} images to add to contact sheet...\".format(len(imglist)))    \n",
    "    contact_sheet = contact_sheet_layer(imglist, cols, cells)    \n",
    "    x = 0    \n",
    "    y = 0    \n",
    "    for img in imglist:        \n",
    "        image = Image.fromarray(img)\n",
    "        #display(image)\n",
    "        thumb = image.resize((cells[0], (cells[0]*image.height//image.width)))\n",
    "        contact_sheet.paste(thumb, (x, y))        \n",
    "        if x + thumb.width == contact_sheet.width:            \n",
    "            x = 0            \n",
    "            y += cells[1]        \n",
    "        else:            \n",
    "                x += thumb.width    \n",
    "    return contact_sheet"
   ]
  },
  {
   "cell_type": "markdown",
   "metadata": {},
   "source": [
    "#### Detect faces\n",
    "This is a routine function to detect and return cropped faces from the image"
   ]
  },
  {
   "cell_type": "code",
   "execution_count": 2,
   "metadata": {
    "collapsed": true
   },
   "outputs": [],
   "source": [
    "def detect_faces(image, scale, minN, minS, maxS):    \n",
    "   cvimage = cv.cvtColor(np.array(image), cv.COLOR_RGB2BGR)    \n",
    "   faces = face_cascade.detectMultiScale(cvimage,    \n",
    "                                        scaleFactor=scale,    \n",
    "                                        minNeighbors=minN,    \n",
    "                                        minSize=(minS, minS),    \n",
    "                                        maxSize=(maxS, maxS))    \n",
    "   cropimages = []    \n",
    "   for (x, y, w, h) in faces:        \n",
    "      cv.rectangle(cvimage, (x, y), (x + w, y + h), (0, 0, 0), 1)        \n",
    "      rgb = cv.cvtColor(cvimage, cv.COLOR_BGR2RGB)        \n",
    "      cropimages.append(rgb[y:y + h, x:x + w])    \n",
    "   return cropimages"
   ]
  },
  {
   "cell_type": "markdown",
   "metadata": {},
   "source": [
    "#### Image Search\n",
    "This is a routine function to search for images from the provided text"
   ]
  },
  {
   "cell_type": "code",
   "execution_count": 3,
   "metadata": {
    "collapsed": true
   },
   "outputs": [],
   "source": [
    "def find_word_faces(data_dict, word, scale, minN, minS, maxS):\n",
    "    print(data_dict.keys())\n",
    "    for key in data_dict.keys():        \n",
    "        if search_word_in_text(data_dict[key]['text'], word):            \n",
    "            images = detect_faces(data_dict[key]['image'], scale, minN, minS,maxS)            \n",
    "            print(\"Results found in file \" + key)            \n",
    "            if images:                \n",
    "                display(create_contact_sheet(images))            \n",
    "            else:                \n",
    "                print(\"But there were no faces in that file!\")"
   ]
  },
  {
   "cell_type": "markdown",
   "metadata": {},
   "source": [
    "### Testing the program"
   ]
  },
  {
   "cell_type": "code",
   "execution_count": null,
   "metadata": {
    "collapsed": true
   },
   "outputs": [],
   "source": [
    "datatest = create_data_dict(bigfile)\n",
    "wordtest = \"Christopher\" \n",
    "\n",
    "\n",
    "\n",
    "datafinal = create_data_dict(bigfile)\n",
    "wordfinal = \"Mark\""
   ]
  },
  {
   "cell_type": "code",
   "execution_count": null,
   "metadata": {
    "collapsed": true
   },
   "outputs": [],
   "source": [
    "find_word_faces(datafinal, wordfinal, 1.20,5, 35, 370)"
   ]
  }
 ],
 "metadata": {
  "anaconda-cloud": {},
  "kernelspec": {
   "display_name": "Python 3",
   "language": "python",
   "name": "python3"
  },
  "language_info": {
   "codemirror_mode": {
    "name": "ipython",
    "version": 3
   },
   "file_extension": ".py",
   "mimetype": "text/x-python",
   "name": "python",
   "nbconvert_exporter": "python",
   "pygments_lexer": "ipython3",
   "version": "3.6.1"
  },
  "toc": {
   "base_numbering": 1,
   "nav_menu": {},
   "number_sections": true,
   "sideBar": true,
   "skip_h1_title": false,
   "title_cell": "Table of Contents",
   "title_sidebar": "Contents",
   "toc_cell": false,
   "toc_position": {},
   "toc_section_display": true,
   "toc_window_display": false
  },
  "varInspector": {
   "cols": {
    "lenName": 16,
    "lenType": 16,
    "lenVar": 40
   },
   "kernels_config": {
    "python": {
     "delete_cmd_postfix": "",
     "delete_cmd_prefix": "del ",
     "library": "var_list.py",
     "varRefreshCmd": "print(var_dic_list())"
    },
    "r": {
     "delete_cmd_postfix": ") ",
     "delete_cmd_prefix": "rm(",
     "library": "var_list.r",
     "varRefreshCmd": "cat(var_dic_list()) "
    }
   },
   "types_to_exclude": [
    "module",
    "function",
    "builtin_function_or_method",
    "instance",
    "_Feature"
   ],
   "window_display": false
  }
 },
 "nbformat": 4,
 "nbformat_minor": 2
}
