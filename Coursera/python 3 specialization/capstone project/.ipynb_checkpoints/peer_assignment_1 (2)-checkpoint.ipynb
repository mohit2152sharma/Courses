{
 "cells": [
  {
   "cell_type": "markdown",
   "metadata": {},
   "source": [
    "## Assignment 1: Building a Better Contact Sheet\n",
    "\n",
    "In the lectures for this week you were shown how to make a contact sheet for digital photographers, and how you can take one image and create nine different variants based on the brightness of that image. In this assignment you are going to change the colors of the image, creating variations based on a single photo. There are many complex ways to change a photograph using variations, such as changing a black and white image to either \"cool\" variants, which have light purple and blues in them, or \"warm\" variants, which have touches of yellow and may look sepia toned. In this assignment, you'll be just changing the image one color channel at a time\n",
    "\n",
    "Your assignment is to learn how to take the stub code provided in the lecture (cleaned up below), and generate the following output image:"
   ]
  },
  {
   "cell_type": "code",
   "execution_count": 1,
   "metadata": {},
   "outputs": [
    {
     "ename": "FileNotFoundError",
     "evalue": "[Errno 2] No such file or directory: 'readonly/msi_recruitment.gif'",
     "output_type": "error",
     "traceback": [
      "\u001b[1;31m---------------------------------------------------------------------------\u001b[0m",
      "\u001b[1;31mFileNotFoundError\u001b[0m                         Traceback (most recent call last)",
      "\u001b[1;32m<ipython-input-1-fbce15ed7e47>\u001b[0m in \u001b[0;36m<module>\u001b[1;34m()\u001b[0m\n\u001b[0;32m      4\u001b[0m \u001b[1;32mfrom\u001b[0m \u001b[0mPIL\u001b[0m \u001b[1;32mimport\u001b[0m \u001b[0mImageFont\u001b[0m\u001b[1;33m,\u001b[0m \u001b[0mImageDraw\u001b[0m\u001b[1;33m\u001b[0m\u001b[0m\n\u001b[0;32m      5\u001b[0m \u001b[1;31m# read image and convert to RGB\u001b[0m\u001b[1;33m\u001b[0m\u001b[1;33m\u001b[0m\u001b[0m\n\u001b[1;32m----> 6\u001b[1;33m \u001b[0mimage\u001b[0m\u001b[1;33m=\u001b[0m\u001b[0mImage\u001b[0m\u001b[1;33m.\u001b[0m\u001b[0mopen\u001b[0m\u001b[1;33m(\u001b[0m\u001b[1;34m\"readonly/msi_recruitment.gif\"\u001b[0m\u001b[1;33m)\u001b[0m\u001b[1;33m\u001b[0m\u001b[0m\n\u001b[0m\u001b[0;32m      7\u001b[0m \u001b[0mimage\u001b[0m\u001b[1;33m=\u001b[0m\u001b[0mimage\u001b[0m\u001b[1;33m.\u001b[0m\u001b[0mconvert\u001b[0m\u001b[1;33m(\u001b[0m\u001b[1;34m'RGB'\u001b[0m\u001b[1;33m)\u001b[0m\u001b[1;33m\u001b[0m\u001b[0m\n\u001b[0;32m      8\u001b[0m \u001b[1;31m# build a list of 9 images which have different color\u001b[0m\u001b[1;33m\u001b[0m\u001b[1;33m\u001b[0m\u001b[0m\n",
      "\u001b[1;32mC:\\Users\\kswp234\\AppData\\Local\\Continuum\\Anaconda3\\lib\\site-packages\\PIL\\Image.py\u001b[0m in \u001b[0;36mopen\u001b[1;34m(fp, mode)\u001b[0m\n\u001b[0;32m   2408\u001b[0m \u001b[1;33m\u001b[0m\u001b[0m\n\u001b[0;32m   2409\u001b[0m     \u001b[1;32mif\u001b[0m \u001b[0mfilename\u001b[0m\u001b[1;33m:\u001b[0m\u001b[1;33m\u001b[0m\u001b[0m\n\u001b[1;32m-> 2410\u001b[1;33m         \u001b[0mfp\u001b[0m \u001b[1;33m=\u001b[0m \u001b[0mbuiltins\u001b[0m\u001b[1;33m.\u001b[0m\u001b[0mopen\u001b[0m\u001b[1;33m(\u001b[0m\u001b[0mfilename\u001b[0m\u001b[1;33m,\u001b[0m \u001b[1;34m\"rb\"\u001b[0m\u001b[1;33m)\u001b[0m\u001b[1;33m\u001b[0m\u001b[0m\n\u001b[0m\u001b[0;32m   2411\u001b[0m         \u001b[0mexclusive_fp\u001b[0m \u001b[1;33m=\u001b[0m \u001b[1;32mTrue\u001b[0m\u001b[1;33m\u001b[0m\u001b[0m\n\u001b[0;32m   2412\u001b[0m \u001b[1;33m\u001b[0m\u001b[0m\n",
      "\u001b[1;31mFileNotFoundError\u001b[0m: [Errno 2] No such file or directory: 'readonly/msi_recruitment.gif'"
     ]
    }
   ],
   "source": [
    "import PIL\n",
    "from PIL import Image\n",
    "from PIL import ImageEnhance\n",
    "from PIL import ImageFont, ImageDraw\n",
    "# read image and convert to RGB\n",
    "image=Image.open(\"readonly/msi_recruitment.gif\")\n",
    "image=image.convert('RGB')\n",
    "# build a list of 9 images which have different color\n",
    "images=[]\n",
    "lables=[]\n",
    "for p in range(3):\n",
    "    for q in (0.1,0.5,0.9):\n",
    "        source = image.split()\n",
    "        mid = source[p].point(lambda x:x*q)\n",
    "        source[p].paste(mid)\n",
    "        marg = Image.merge(image.mode, source)\n",
    "        lables.append('channel {} intensity {}'.format(p,q))\n",
    "        images.append(marg)\n",
    "img_font = ImageFont.truetype(\"readonly/fanwood-webfont.ttf\",40)\n",
    "# create a contact sheet from different color\n",
    "first_image=images[0]\n",
    "contact_sheet=PIL.Image.new(first_image.mode, (first_image.width*3,first_image.height*3+3*85))\n",
    "x=0\n",
    "y=0\n",
    "draw = ImageDraw.Draw(contact_sheet)\n",
    "for i,img in enumerate(images):\n",
    "    # Lets paste the current image into the contact sheet\n",
    "    contact_sheet.paste(img, (x, y) )\n",
    "    draw.text((x,y+first_image.height+3), lables[i], font=img_font)\n",
    "    # Now we update our X position. If it is going to be the width of the image, then we set it to 0\n",
    "    # and update Y as well to point to the next \"line\" of the contact sheet.\n",
    "    if x+first_image.width == contact_sheet.width:\n",
    "        x=0\n",
    "        y=y+first_image.height+85\n",
    "    else:\n",
    "        x=x+first_image.width\n",
    "\n",
    "# resize and display the contact sheet\n",
    "contact_sheet = contact_sheet.resize((int(contact_sheet.width/2),int(contact_sheet.height/2) ))\n",
    "display(contact_sheet)"
   ]
  },
  {
   "cell_type": "markdown",
   "metadata": {},
   "source": [
    "## HINT 1\n",
    "Check out the PIL.ImageDraw module for helpful functions\n",
    "\n"
   ]
  },
  {
   "cell_type": "markdown",
   "metadata": {},
   "source": [
    "## HINT 2\n",
    "\n",
    "Did you find the `text()` function of `PIL.ImageDraw`?"
   ]
  },
  {
   "cell_type": "markdown",
   "metadata": {},
   "source": [
    "## HINT 3\n",
    "\n",
    "Have you seen the `PIL.ImageFont` module? Try loading the font with a size of 75 or so."
   ]
  },
  {
   "cell_type": "markdown",
   "metadata": {},
   "source": [
    "## HINT 4\n",
    "These hints aren't really enough, we should probably generate some more."
   ]
  }
 ],
 "metadata": {
  "kernelspec": {
   "display_name": "Python 3",
   "language": "python",
   "name": "python3"
  },
  "language_info": {
   "codemirror_mode": {
    "name": "ipython",
    "version": 3
   },
   "file_extension": ".py",
   "mimetype": "text/x-python",
   "name": "python",
   "nbconvert_exporter": "python",
   "pygments_lexer": "ipython3",
   "version": "3.6.1"
  }
 },
 "nbformat": 4,
 "nbformat_minor": 2
}
